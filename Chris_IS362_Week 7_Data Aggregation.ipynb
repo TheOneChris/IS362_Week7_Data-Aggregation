{
 "cells": [
  {
   "cell_type": "code",
   "execution_count": 14,
   "id": "7f054782",
   "metadata": {},
   "outputs": [],
   "source": [
    "import numpy as np\n",
    "import pandas as pd"
   ]
  },
  {
   "cell_type": "code",
   "execution_count": 15,
   "id": "a82b7117",
   "metadata": {},
   "outputs": [
    {
     "data": {
      "text/html": [
       "<div>\n",
       "<style scoped>\n",
       "    .dataframe tbody tr th:only-of-type {\n",
       "        vertical-align: middle;\n",
       "    }\n",
       "\n",
       "    .dataframe tbody tr th {\n",
       "        vertical-align: top;\n",
       "    }\n",
       "\n",
       "    .dataframe thead th {\n",
       "        text-align: right;\n",
       "    }\n",
       "</style>\n",
       "<table border=\"1\" class=\"dataframe\">\n",
       "  <thead>\n",
       "    <tr style=\"text-align: right;\">\n",
       "      <th></th>\n",
       "      <th>name</th>\n",
       "      <th>SPIDER-MAN:NO WAY HOME</th>\n",
       "      <th>THE SUICIDE SQUAD</th>\n",
       "      <th>DUNE</th>\n",
       "      <th>NO TIME TO DIE</th>\n",
       "      <th>BLACK WIDOW</th>\n",
       "      <th>GODZILLA VS KONG</th>\n",
       "    </tr>\n",
       "  </thead>\n",
       "  <tbody>\n",
       "    <tr>\n",
       "      <th>0</th>\n",
       "      <td>Nathan</td>\n",
       "      <td>3.0</td>\n",
       "      <td>3</td>\n",
       "      <td>NaN</td>\n",
       "      <td>4</td>\n",
       "      <td>2</td>\n",
       "      <td>5.0</td>\n",
       "    </tr>\n",
       "    <tr>\n",
       "      <th>1</th>\n",
       "      <td>Dylan</td>\n",
       "      <td>NaN</td>\n",
       "      <td>3</td>\n",
       "      <td>5.0</td>\n",
       "      <td>2</td>\n",
       "      <td>3</td>\n",
       "      <td>NaN</td>\n",
       "    </tr>\n",
       "    <tr>\n",
       "      <th>2</th>\n",
       "      <td>Jacob</td>\n",
       "      <td>4.0</td>\n",
       "      <td>3</td>\n",
       "      <td>NaN</td>\n",
       "      <td>4</td>\n",
       "      <td>4</td>\n",
       "      <td>1.0</td>\n",
       "    </tr>\n",
       "    <tr>\n",
       "      <th>3</th>\n",
       "      <td>Dawson</td>\n",
       "      <td>3.0</td>\n",
       "      <td>4</td>\n",
       "      <td>4.0</td>\n",
       "      <td>2</td>\n",
       "      <td>2</td>\n",
       "      <td>NaN</td>\n",
       "    </tr>\n",
       "    <tr>\n",
       "      <th>4</th>\n",
       "      <td>Charlie</td>\n",
       "      <td>5.0</td>\n",
       "      <td>1</td>\n",
       "      <td>4.0</td>\n",
       "      <td>4</td>\n",
       "      <td>3</td>\n",
       "      <td>4.0</td>\n",
       "    </tr>\n",
       "  </tbody>\n",
       "</table>\n",
       "</div>"
      ],
      "text/plain": [
       "      name  SPIDER-MAN:NO WAY HOME  THE SUICIDE SQUAD  DUNE  NO TIME TO DIE  \\\n",
       "0   Nathan                     3.0                  3   NaN               4   \n",
       "1    Dylan                     NaN                  3   5.0               2   \n",
       "2    Jacob                     4.0                  3   NaN               4   \n",
       "3   Dawson                     3.0                  4   4.0               2   \n",
       "4  Charlie                     5.0                  1   4.0               4   \n",
       "\n",
       "   BLACK WIDOW  GODZILLA VS KONG  \n",
       "0            2               5.0  \n",
       "1            3               NaN  \n",
       "2            4               1.0  \n",
       "3            2               NaN  \n",
       "4            3               4.0  "
      ]
     },
     "execution_count": 15,
     "metadata": {},
     "output_type": "execute_result"
    }
   ],
   "source": [
    "#Read information from file into pandas dataframe\n",
    "#Movies are highly rated according to rottentomatoes.com\n",
    "ratings = pd.read_csv('ratings.csv')\n",
    "ratings"
   ]
  },
  {
   "cell_type": "code",
   "execution_count": 16,
   "id": "19ae0678",
   "metadata": {},
   "outputs": [
    {
     "data": {
      "text/plain": [
       "SPIDER-MAN:NO WAY HOME    3.750000\n",
       "THE SUICIDE SQUAD         2.800000\n",
       "DUNE                      4.333333\n",
       "NO TIME TO DIE            3.200000\n",
       "BLACK WIDOW               2.800000\n",
       "GODZILLA VS KONG          3.333333\n",
       "dtype: float64"
      ]
     },
     "execution_count": 16,
     "metadata": {},
     "output_type": "execute_result"
    }
   ],
   "source": [
    "#Show the average ratings for each user and each movie\n",
    "ratings.mean()"
   ]
  },
  {
   "cell_type": "code",
   "execution_count": 17,
   "id": "a619d86b",
   "metadata": {},
   "outputs": [
    {
     "data": {
      "text/plain": [
       "name\n",
       "Nathan     3.40\n",
       "Dylan      3.25\n",
       "Jacob      3.20\n",
       "Dawson     3.00\n",
       "Charlie    3.50\n",
       "dtype: float64"
      ]
     },
     "execution_count": 17,
     "metadata": {},
     "output_type": "execute_result"
    }
   ],
   "source": [
    "ratings.set_index('name', inplace=True)\n",
    "ratings.mean(axis=1)"
   ]
  },
  {
   "cell_type": "code",
   "execution_count": 21,
   "id": "e1d04b52",
   "metadata": {},
   "outputs": [
    {
     "data": {
      "text/html": [
       "<div>\n",
       "<style scoped>\n",
       "    .dataframe tbody tr th:only-of-type {\n",
       "        vertical-align: middle;\n",
       "    }\n",
       "\n",
       "    .dataframe tbody tr th {\n",
       "        vertical-align: top;\n",
       "    }\n",
       "\n",
       "    .dataframe thead th {\n",
       "        text-align: right;\n",
       "    }\n",
       "</style>\n",
       "<table border=\"1\" class=\"dataframe\">\n",
       "  <thead>\n",
       "    <tr style=\"text-align: right;\">\n",
       "      <th></th>\n",
       "      <th>SPIDER-MAN:NO WAY HOME</th>\n",
       "      <th>THE SUICIDE SQUAD</th>\n",
       "      <th>DUNE</th>\n",
       "      <th>NO TIME TO DIE</th>\n",
       "      <th>BLACK WIDOW</th>\n",
       "      <th>GODZILLA VS KONG</th>\n",
       "    </tr>\n",
       "    <tr>\n",
       "      <th>name</th>\n",
       "      <th></th>\n",
       "      <th></th>\n",
       "      <th></th>\n",
       "      <th></th>\n",
       "      <th></th>\n",
       "      <th></th>\n",
       "    </tr>\n",
       "  </thead>\n",
       "  <tbody>\n",
       "    <tr>\n",
       "      <th>Nathan</th>\n",
       "      <td>0.6</td>\n",
       "      <td>0.666667</td>\n",
       "      <td>0.0</td>\n",
       "      <td>1.0</td>\n",
       "      <td>0.0</td>\n",
       "      <td>1.0</td>\n",
       "    </tr>\n",
       "    <tr>\n",
       "      <th>Dylan</th>\n",
       "      <td>0.0</td>\n",
       "      <td>0.666667</td>\n",
       "      <td>1.0</td>\n",
       "      <td>0.0</td>\n",
       "      <td>0.5</td>\n",
       "      <td>0.0</td>\n",
       "    </tr>\n",
       "    <tr>\n",
       "      <th>Jacob</th>\n",
       "      <td>0.8</td>\n",
       "      <td>0.666667</td>\n",
       "      <td>0.0</td>\n",
       "      <td>1.0</td>\n",
       "      <td>1.0</td>\n",
       "      <td>0.2</td>\n",
       "    </tr>\n",
       "    <tr>\n",
       "      <th>Dawson</th>\n",
       "      <td>0.6</td>\n",
       "      <td>1.000000</td>\n",
       "      <td>0.8</td>\n",
       "      <td>0.0</td>\n",
       "      <td>0.0</td>\n",
       "      <td>0.0</td>\n",
       "    </tr>\n",
       "    <tr>\n",
       "      <th>Charlie</th>\n",
       "      <td>1.0</td>\n",
       "      <td>0.000000</td>\n",
       "      <td>0.8</td>\n",
       "      <td>1.0</td>\n",
       "      <td>0.5</td>\n",
       "      <td>0.8</td>\n",
       "    </tr>\n",
       "  </tbody>\n",
       "</table>\n",
       "</div>"
      ],
      "text/plain": [
       "         SPIDER-MAN:NO WAY HOME  THE SUICIDE SQUAD  DUNE  NO TIME TO DIE  \\\n",
       "name                                                                       \n",
       "Nathan                      0.6           0.666667   0.0             1.0   \n",
       "Dylan                       0.0           0.666667   1.0             0.0   \n",
       "Jacob                       0.8           0.666667   0.0             1.0   \n",
       "Dawson                      0.6           1.000000   0.8             0.0   \n",
       "Charlie                     1.0           0.000000   0.8             1.0   \n",
       "\n",
       "         BLACK WIDOW  GODZILLA VS KONG  \n",
       "name                                    \n",
       "Nathan           0.0               1.0  \n",
       "Dylan            0.5               0.0  \n",
       "Jacob            1.0               0.2  \n",
       "Dawson           0.0               0.0  \n",
       "Charlie          0.5               0.8  "
      ]
     },
     "execution_count": 21,
     "metadata": {},
     "output_type": "execute_result"
    }
   ],
   "source": [
    "ratings.fillna(value=0, inplace=True)\n",
    "normalized = (ratings - ratings.min()) / (ratings.max() - ratings.min())\n",
    "normalized"
   ]
  },
  {
   "cell_type": "code",
   "execution_count": 22,
   "id": "df9aafa9",
   "metadata": {},
   "outputs": [
    {
     "data": {
      "text/plain": [
       "SPIDER-MAN:NO WAY HOME    0.60\n",
       "THE SUICIDE SQUAD         0.60\n",
       "DUNE                      0.52\n",
       "NO TIME TO DIE            0.60\n",
       "BLACK WIDOW               0.40\n",
       "GODZILLA VS KONG          0.40\n",
       "dtype: float64"
      ]
     },
     "execution_count": 22,
     "metadata": {},
     "output_type": "execute_result"
    }
   ],
   "source": [
    "normalized.mean()"
   ]
  },
  {
   "cell_type": "code",
   "execution_count": 23,
   "id": "8be4df44",
   "metadata": {},
   "outputs": [
    {
     "data": {
      "text/plain": [
       "name\n",
       "Nathan     0.544444\n",
       "Dylan      0.361111\n",
       "Jacob      0.611111\n",
       "Dawson     0.400000\n",
       "Charlie    0.683333\n",
       "dtype: float64"
      ]
     },
     "execution_count": 23,
     "metadata": {},
     "output_type": "execute_result"
    }
   ],
   "source": [
    "normalized.mean(axis=1)"
   ]
  }
 ],
 "metadata": {
  "kernelspec": {
   "display_name": "Python 3",
   "language": "python",
   "name": "python3"
  },
  "language_info": {
   "codemirror_mode": {
    "name": "ipython",
    "version": 3
   },
   "file_extension": ".py",
   "mimetype": "text/x-python",
   "name": "python",
   "nbconvert_exporter": "python",
   "pygments_lexer": "ipython3",
   "version": "3.8.8"
  }
 },
 "nbformat": 4,
 "nbformat_minor": 5
}
